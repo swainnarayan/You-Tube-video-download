{
 "cells": [
  {
   "cell_type": "code",
   "execution_count": 1,
   "id": "af9ef716-d27b-46b8-b54a-556559ac6621",
   "metadata": {},
   "outputs": [
    {
     "name": "stdout",
     "output_type": "stream",
     "text": [
      "Collecting pytube3\n",
      "  Downloading pytube3-9.6.4-py3-none-any.whl.metadata (16 kB)\n",
      "Requirement already satisfied: typing-extensions in c:\\users\\arati\\anaconda3\\lib\\site-packages (from pytube3) (4.11.0)\n",
      "Downloading pytube3-9.6.4-py3-none-any.whl (38 kB)\n",
      "Installing collected packages: pytube3\n",
      "Successfully installed pytube3-9.6.4\n",
      "Note: you may need to restart the kernel to use updated packages.\n"
     ]
    }
   ],
   "source": [
    "pip install pytube3"
   ]
  },
  {
   "cell_type": "code",
   "execution_count": 2,
   "id": "ea23726f-fd17-46c3-b767-ed720937a77d",
   "metadata": {},
   "outputs": [
    {
     "name": "stdout",
     "output_type": "stream",
     "text": [
      "Collecting pytubeNote: you may need to restart the kernel to use updated packages.\n",
      "\n",
      "  Downloading pytube-15.0.0-py3-none-any.whl.metadata (5.0 kB)\n",
      "Downloading pytube-15.0.0-py3-none-any.whl (57 kB)\n",
      "   ---------------------------------------- 0.0/57.6 kB ? eta -:--:--\n",
      "   -------------- ------------------------- 20.5/57.6 kB ? eta -:--:--\n",
      "   --------------------- ------------------ 30.7/57.6 kB 220.2 kB/s eta 0:00:01\n",
      "   ---------------------------------------- 57.6/57.6 kB 378.8 kB/s eta 0:00:00\n",
      "Installing collected packages: pytube\n",
      "Successfully installed pytube-15.0.0\n"
     ]
    }
   ],
   "source": [
    "pip install --upgrade pytube"
   ]
  },
  {
   "cell_type": "code",
   "execution_count": 4,
   "id": "b42d1d38-7919-4472-9682-a6d68b7515d9",
   "metadata": {},
   "outputs": [],
   "source": [
    "from pytube import YouTube"
   ]
  },
  {
   "cell_type": "code",
   "execution_count": 5,
   "id": "dc8ff2c0-5548-4fa5-a3e1-1a396a548719",
   "metadata": {},
   "outputs": [
    {
     "name": "stdout",
     "output_type": "stream",
     "text": [
      "Collecting yt-dlp\n",
      "  Downloading yt_dlp-2024.8.6-py3-none-any.whl.metadata (170 kB)\n",
      "     ---------------------------------------- 0.0/170.1 kB ? eta -:--:--\n",
      "     -- ------------------------------------- 10.2/170.1 kB ? eta -:--:--\n",
      "     -------- ---------------------------- 41.0/170.1 kB 393.8 kB/s eta 0:00:01\n",
      "     ----------------- ------------------- 81.9/170.1 kB 651.6 kB/s eta 0:00:01\n",
      "     ---------------------------------- - 163.8/170.1 kB 893.0 kB/s eta 0:00:01\n",
      "     ------------------------------------ 170.1/170.1 kB 730.2 kB/s eta 0:00:00\n",
      "Requirement already satisfied: brotli in c:\\users\\arati\\anaconda3\\lib\\site-packages (from yt-dlp) (1.0.9)\n",
      "Requirement already satisfied: certifi in c:\\users\\arati\\anaconda3\\lib\\site-packages (from yt-dlp) (2024.6.2)\n",
      "Collecting mutagen (from yt-dlp)\n",
      "  Downloading mutagen-1.47.0-py3-none-any.whl.metadata (1.7 kB)\n",
      "Collecting pycryptodomex (from yt-dlp)\n",
      "  Downloading pycryptodomex-3.20.0-cp35-abi3-win_amd64.whl.metadata (3.4 kB)\n",
      "Requirement already satisfied: requests<3,>=2.32.2 in c:\\users\\arati\\anaconda3\\lib\\site-packages (from yt-dlp) (2.32.2)\n",
      "Requirement already satisfied: urllib3<3,>=1.26.17 in c:\\users\\arati\\anaconda3\\lib\\site-packages (from yt-dlp) (2.2.2)\n",
      "Collecting websockets>=12.0 (from yt-dlp)\n",
      "  Downloading websockets-13.0.1-cp312-cp312-win_amd64.whl.metadata (6.9 kB)\n",
      "Requirement already satisfied: charset-normalizer<4,>=2 in c:\\users\\arati\\anaconda3\\lib\\site-packages (from requests<3,>=2.32.2->yt-dlp) (2.0.4)\n",
      "Requirement already satisfied: idna<4,>=2.5 in c:\\users\\arati\\anaconda3\\lib\\site-packages (from requests<3,>=2.32.2->yt-dlp) (3.7)\n",
      "Downloading yt_dlp-2024.8.6-py3-none-any.whl (3.1 MB)\n",
      "   ---------------------------------------- 0.0/3.1 MB ? eta -:--:--\n",
      "   - -------------------------------------- 0.1/3.1 MB 5.5 MB/s eta 0:00:01\n",
      "   - -------------------------------------- 0.1/3.1 MB 1.4 MB/s eta 0:00:03\n",
      "   -- ------------------------------------- 0.2/3.1 MB 1.5 MB/s eta 0:00:02\n",
      "   --- ------------------------------------ 0.3/3.1 MB 1.5 MB/s eta 0:00:02\n",
      "   ---- ----------------------------------- 0.3/3.1 MB 1.6 MB/s eta 0:00:02\n",
      "   ----- ---------------------------------- 0.4/3.1 MB 1.4 MB/s eta 0:00:02\n",
      "   ----- ---------------------------------- 0.5/3.1 MB 1.4 MB/s eta 0:00:02\n",
      "   ------ --------------------------------- 0.5/3.1 MB 1.3 MB/s eta 0:00:03\n",
      "   ------ --------------------------------- 0.5/3.1 MB 1.3 MB/s eta 0:00:02\n",
      "   -------- ------------------------------- 0.7/3.1 MB 1.4 MB/s eta 0:00:02\n",
      "   -------- ------------------------------- 0.7/3.1 MB 1.4 MB/s eta 0:00:02\n",
      "   --------- ------------------------------ 0.7/3.1 MB 1.3 MB/s eta 0:00:02\n",
      "   ---------- ----------------------------- 0.8/3.1 MB 1.3 MB/s eta 0:00:02\n",
      "   ----------- ---------------------------- 0.9/3.1 MB 1.3 MB/s eta 0:00:02\n",
      "   ----------- ---------------------------- 0.9/3.1 MB 1.3 MB/s eta 0:00:02\n",
      "   ------------- -------------------------- 1.0/3.1 MB 1.4 MB/s eta 0:00:02\n",
      "   ------------- -------------------------- 1.1/3.1 MB 1.4 MB/s eta 0:00:02\n",
      "   --------------- ------------------------ 1.2/3.1 MB 1.4 MB/s eta 0:00:02\n",
      "   --------------- ------------------------ 1.2/3.1 MB 1.4 MB/s eta 0:00:02\n",
      "   ---------------- ----------------------- 1.3/3.1 MB 1.4 MB/s eta 0:00:02\n",
      "   ------------------ --------------------- 1.4/3.1 MB 1.4 MB/s eta 0:00:02\n",
      "   ------------------ --------------------- 1.5/3.1 MB 1.4 MB/s eta 0:00:02\n",
      "   -------------------- ------------------- 1.6/3.1 MB 1.5 MB/s eta 0:00:02\n",
      "   --------------------- ------------------ 1.7/3.1 MB 1.5 MB/s eta 0:00:01\n",
      "   ---------------------- ----------------- 1.8/3.1 MB 1.5 MB/s eta 0:00:01\n",
      "   ----------------------- ---------------- 1.8/3.1 MB 1.5 MB/s eta 0:00:01\n",
      "   ----------------------- ---------------- 1.8/3.1 MB 1.5 MB/s eta 0:00:01\n",
      "   ----------------------- ---------------- 1.9/3.1 MB 1.4 MB/s eta 0:00:01\n",
      "   ------------------------- -------------- 2.0/3.1 MB 1.4 MB/s eta 0:00:01\n",
      "   -------------------------- ------------- 2.1/3.1 MB 1.5 MB/s eta 0:00:01\n",
      "   --------------------------- ------------ 2.1/3.1 MB 1.4 MB/s eta 0:00:01\n",
      "   --------------------------- ------------ 2.2/3.1 MB 1.5 MB/s eta 0:00:01\n",
      "   ----------------------------- ---------- 2.3/3.1 MB 1.5 MB/s eta 0:00:01\n",
      "   ------------------------------ --------- 2.4/3.1 MB 1.5 MB/s eta 0:00:01\n",
      "   ------------------------------ --------- 2.4/3.1 MB 1.5 MB/s eta 0:00:01\n",
      "   ------------------------------- -------- 2.4/3.1 MB 1.5 MB/s eta 0:00:01\n",
      "   --------------------------------- ------ 2.6/3.1 MB 1.5 MB/s eta 0:00:01\n",
      "   ---------------------------------- ----- 2.7/3.1 MB 1.5 MB/s eta 0:00:01\n",
      "   ------------------------------------ --- 2.8/3.1 MB 1.5 MB/s eta 0:00:01\n",
      "   ------------------------------------ --- 2.8/3.1 MB 1.5 MB/s eta 0:00:01\n",
      "   -------------------------------------- - 3.0/3.1 MB 1.5 MB/s eta 0:00:01\n",
      "   -------------------------------------- - 3.0/3.1 MB 1.5 MB/s eta 0:00:01\n",
      "   ---------------------------------------  3.1/3.1 MB 1.5 MB/s eta 0:00:01\n",
      "   ---------------------------------------  3.1/3.1 MB 1.5 MB/s eta 0:00:01\n",
      "   ---------------------------------------- 3.1/3.1 MB 1.5 MB/s eta 0:00:00\n",
      "Downloading websockets-13.0.1-cp312-cp312-win_amd64.whl (152 kB)\n",
      "   ---------------------------------------- 0.0/152.2 kB ? eta -:--:--\n",
      "   -------- ------------------------------- 30.7/152.2 kB ? eta -:--:--\n",
      "   ---------------------------------------- 152.2/152.2 kB 1.8 MB/s eta 0:00:00\n",
      "Downloading mutagen-1.47.0-py3-none-any.whl (194 kB)\n",
      "   ---------------------------------------- 0.0/194.4 kB ? eta -:--:--\n",
      "   ---------------- ----------------------- 81.9/194.4 kB 2.3 MB/s eta 0:00:01\n",
      "   ------------------------------------- -- 184.3/194.4 kB 2.2 MB/s eta 0:00:01\n",
      "   ---------------------------------------- 194.4/194.4 kB 2.0 MB/s eta 0:00:00\n",
      "Downloading pycryptodomex-3.20.0-cp35-abi3-win_amd64.whl (1.8 MB)\n",
      "   ---------------------------------------- 0.0/1.8 MB ? eta -:--:--\n",
      "   -- ------------------------------------- 0.1/1.8 MB 5.5 MB/s eta 0:00:01\n",
      "   --- ------------------------------------ 0.2/1.8 MB 2.1 MB/s eta 0:00:01\n",
      "   ----- ---------------------------------- 0.3/1.8 MB 2.6 MB/s eta 0:00:01\n",
      "   ------ --------------------------------- 0.3/1.8 MB 1.7 MB/s eta 0:00:01\n",
      "   ---------- ----------------------------- 0.5/1.8 MB 2.4 MB/s eta 0:00:01\n",
      "   ------------ --------------------------- 0.5/1.8 MB 2.1 MB/s eta 0:00:01\n",
      "   -------------- ------------------------- 0.6/1.8 MB 2.2 MB/s eta 0:00:01\n",
      "   --------------- ------------------------ 0.7/1.8 MB 2.0 MB/s eta 0:00:01\n",
      "   ---------------- ----------------------- 0.7/1.8 MB 1.9 MB/s eta 0:00:01\n",
      "   -------------------- ------------------- 0.9/1.8 MB 2.0 MB/s eta 0:00:01\n",
      "   -------------------- ------------------- 0.9/1.8 MB 1.9 MB/s eta 0:00:01\n",
      "   ----------------------- ---------------- 1.0/1.8 MB 1.9 MB/s eta 0:00:01\n",
      "   ------------------------ --------------- 1.1/1.8 MB 1.9 MB/s eta 0:00:01\n",
      "   ---------------------------- ----------- 1.3/1.8 MB 2.0 MB/s eta 0:00:01\n",
      "   ----------------------------- ---------- 1.3/1.8 MB 1.9 MB/s eta 0:00:01\n",
      "   ------------------------------ --------- 1.3/1.8 MB 1.8 MB/s eta 0:00:01\n",
      "   --------------------------------- ------ 1.5/1.8 MB 1.9 MB/s eta 0:00:01\n",
      "   ----------------------------------- ---- 1.6/1.8 MB 1.9 MB/s eta 0:00:01\n",
      "   ----------------------------------- ---- 1.6/1.8 MB 1.9 MB/s eta 0:00:01\n",
      "   -------------------------------------- - 1.7/1.8 MB 1.9 MB/s eta 0:00:01\n",
      "   ---------------------------------------  1.8/1.8 MB 1.8 MB/s eta 0:00:01\n",
      "   ---------------------------------------- 1.8/1.8 MB 1.8 MB/s eta 0:00:00\n",
      "Installing collected packages: websockets, pycryptodomex, mutagen, yt-dlp\n",
      "Successfully installed mutagen-1.47.0 pycryptodomex-3.20.0 websockets-13.0.1 yt-dlp-2024.8.6\n",
      "Note: you may need to restart the kernel to use updated packages.\n"
     ]
    }
   ],
   "source": [
    "pip install yt-dlp"
   ]
  },
  {
   "cell_type": "code",
   "execution_count": 6,
   "id": "d451b4a3-d8a7-414c-88e2-690f9e612e7b",
   "metadata": {},
   "outputs": [
    {
     "name": "stdin",
     "output_type": "stream",
     "text": [
      "Enter youtube video youtube.com/watch?v=eDN6fAWLNNE&t=5425s\n"
     ]
    }
   ],
   "source": [
    "link=input(\"Enter youtube video\")\n",
    "yt=YouTube(link)"
   ]
  },
  {
   "cell_type": "code",
   "execution_count": 7,
   "id": "01b30b77-95ef-47f8-96d3-8422582ca39c",
   "metadata": {},
   "outputs": [
    {
     "name": "stdout",
     "output_type": "stream",
     "text": [
      "Title : Generative AI for Build LLM Model Using Lama 3,Hugging Face & Ollama | NareshIT\n",
      "Views : 2476\n",
      "Duration : 8456\n",
      "Description : None\n",
      "Ratings : None\n"
     ]
    }
   ],
   "source": [
    "# To print title\n",
    "print(\"Title :\",yt.title)\n",
    "#To get number of views\n",
    "print(\"Views :\",yt.views)\n",
    "#To get length of the video\n",
    "print(\"Duration :\",yt.length)\n",
    "#To get description\n",
    "print(\"Description :\",yt.description)\n",
    "#To get ratings\n",
    "print(\"Ratings :\",yt.rating)"
   ]
  },
  {
   "cell_type": "code",
   "execution_count": 11,
   "id": "26556aa3-8791-4298-995f-e61953142ad2",
   "metadata": {},
   "outputs": [
    {
     "name": "stdin",
     "output_type": "stream",
     "text": [
      "Do you want to download this video? (yes/no):  yes\n"
     ]
    },
    {
     "name": "stdout",
     "output_type": "stream",
     "text": [
      "downloding...\n",
      "[generic] Extracting URL: youtube.com/watch?v=eDN6fAWLNNE&t=5425s\n"
     ]
    },
    {
     "name": "stderr",
     "output_type": "stream",
     "text": [
      "WARNING: [generic] The url doesn't specify the protocol, trying with http\n"
     ]
    },
    {
     "name": "stdout",
     "output_type": "stream",
     "text": [
      "[youtube] Extracting URL: http://youtube.com/watch?v=eDN6fAWLNNE&t=5425s\n",
      "[youtube] eDN6fAWLNNE: Downloading webpage\n",
      "[youtube] eDN6fAWLNNE: Downloading ios player API JSON\n",
      "[youtube] eDN6fAWLNNE: Downloading web creator player API JSON\n",
      "[youtube] eDN6fAWLNNE: Downloading player 3abab6ef\n",
      "[youtube] eDN6fAWLNNE: Downloading m3u8 information\n",
      "[info] eDN6fAWLNNE: Downloading 1 format(s): 18\n",
      "[download] Destination: Generative AI for Build LLM Model Using Lama 3,Hugging Face & Ollama ｜ NareshIT [eDN6fAWLNNE].mp4\n",
      "[download] 100% of  190.53MiB in 00:01:59 at 1.60MiB/s      \n",
      "Download completed\n"
     ]
    }
   ],
   "source": [
    "from yt_dlp import YoutubeDL\n",
    "\n",
    "download_option = input(\"Do you want to download this video? (yes/no): \").lower()\n",
    "\n",
    "if download_option == \"yes\":\n",
    "    url = 'youtube.com/watch?v=eDN6fAWLNNE&t=5425s'\n",
    "    ydl_opts = {'format' : 'best'}\n",
    "    with YoutubeDL(ydl_opts) as ydl:\n",
    "        print(\"downloding...\")\n",
    "        ydl.download([url])\n",
    "        print(\"Download completed\")\n",
    "\n",
    "else:\n",
    "    print(\"Download Aborted\")"
   ]
  },
  {
   "cell_type": "code",
   "execution_count": 4,
   "id": "258e0e1f-1169-41c6-94ea-d5537c95ec8c",
   "metadata": {},
   "outputs": [
    {
     "data": {
      "text/plain": [
       "'C:\\\\Users\\\\arati'"
      ]
     },
     "execution_count": 4,
     "metadata": {},
     "output_type": "execute_result"
    }
   ],
   "source": [
    "import os\n",
    "os.getcwd()"
   ]
  },
  {
   "cell_type": "code",
   "execution_count": null,
   "id": "1f47e62c-40f8-448f-b461-d33c86b81e23",
   "metadata": {},
   "outputs": [],
   "source": []
  },
  {
   "cell_type": "code",
   "execution_count": null,
   "id": "06bc8386-fc6e-497c-a4a8-d176428d19a8",
   "metadata": {},
   "outputs": [],
   "source": []
  }
 ],
 "metadata": {
  "kernelspec": {
   "display_name": "Python 3 (ipykernel)",
   "language": "python",
   "name": "python3"
  },
  "language_info": {
   "codemirror_mode": {
    "name": "ipython",
    "version": 3
   },
   "file_extension": ".py",
   "mimetype": "text/x-python",
   "name": "python",
   "nbconvert_exporter": "python",
   "pygments_lexer": "ipython3",
   "version": "3.12.4"
  }
 },
 "nbformat": 4,
 "nbformat_minor": 5
}
